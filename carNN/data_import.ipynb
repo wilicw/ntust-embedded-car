{
 "cells": [
  {
   "cell_type": "code",
   "execution_count": 3,
   "id": "37e4aabe-c891-4ad7-9441-255eaa284afc",
   "metadata": {
    "pycharm": {
     "name": "#%%\n"
    }
   },
   "outputs": [
    {
     "name": "stdout",
     "output_type": "stream",
     "text": [
      "no_right 2167\n",
      "no_stop 1790\n",
      "only_right 1567\n",
      "stop_line 1199\n",
      "stop_pic 2477\n"
     ]
    }
   ],
   "source": [
    "import numpy as np\n",
    "import tensorflow as tf\n",
    "from tensorflow import keras\n",
    "from keras.utils import np_utils\n",
    "from glob import glob\n",
    "import cv2\n",
    "from sklearn.utils import shuffle\n",
    "\n",
    "# classifications = ['go_left', 'go_right', 'no_go', 'no_left', 'no_right', 'no_stop', 'only_go', 'only_left', 'only_right', 'stop_line', 'stop_pic']\n",
    "classifications = ['no_right', 'no_stop', 'only_right', 'stop_line', 'stop_pic']\n",
    "len(classifications)\n",
    "base_path = \"D:\\\\Team\\\\rasp_car\\\\program\\\\image_process\\\\all_dataset\"\n",
    "\n",
    "x_train, y_train = [], []\n",
    "for i, classification in enumerate(classifications):\n",
    "    f_list = glob(f\"{base_path}\\\\{classification}\\\\*\")\n",
    "    print(classification, len(f_list))\n",
    "    for pic in f_list:\n",
    "        img = cv2.imread(pic, cv2.IMREAD_UNCHANGED)\n",
    "        img = cv2.cvtColor(img, cv2.COLOR_BGRA2BGR)\n",
    "        x_train.append(np.array(img))\n",
    "        y_train.append(np_utils.to_categorical(i, len(classifications)))\n",
    "\n",
    "x_train, y_train = np.array(x_train), np.array(y_train)\n",
    "np.savez_compressed('x_train50x50.npz', x_train)\n",
    "np.savez_compressed('y_train50x50.npz', y_train)\n",
    "x_train, y_train = shuffle(x_train, y_train)\n",
    "x_train, y_train, x_test, y_test = x_train[:-50], y_train[:-50], x_train[-50:], y_train[-50:]"
   ]
  },
  {
   "cell_type": "code",
   "execution_count": 2,
   "id": "c0626767-efe8-4132-ae2f-e263d93742e0",
   "metadata": {
    "pycharm": {
     "name": "#%%\n"
    }
   },
   "outputs": [
    {
     "data": {
      "text/plain": "((9671, 50, 50, 3), (9671, 5), (50, 50, 50, 3), (50, 5))"
     },
     "execution_count": 2,
     "metadata": {},
     "output_type": "execute_result"
    }
   ],
   "source": [
    "x_train.shape, y_train.shape, x_test.shape, y_test.shape"
   ]
  },
  {
   "cell_type": "code",
   "execution_count": null,
   "id": "a69486ab-5745-44cc-a15e-86cc845d4a1f",
   "metadata": {
    "pycharm": {
     "name": "#%%\n"
    }
   },
   "outputs": [],
   "source": []
  }
 ],
 "metadata": {
  "kernelspec": {
   "display_name": "Python 3 (ipykernel)",
   "language": "python",
   "name": "python3"
  },
  "language_info": {
   "codemirror_mode": {
    "name": "ipython",
    "version": 3
   },
   "file_extension": ".py",
   "mimetype": "text/x-python",
   "name": "python",
   "nbconvert_exporter": "python",
   "pygments_lexer": "ipython3",
   "version": "3.10.6"
  }
 },
 "nbformat": 4,
 "nbformat_minor": 5
}