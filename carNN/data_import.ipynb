{
 "cells": [
  {
   "cell_type": "code",
   "execution_count": 1,
   "id": "37e4aabe-c891-4ad7-9441-255eaa284afc",
   "metadata": {
    "pycharm": {
     "name": "#%%\n"
    }
   },
   "outputs": [
    {
     "name": "stdout",
     "output_type": "stream",
     "text": [
      "cpp_go_left 100\n",
      "cpp_go_right 100\n",
      "cpp_notgo 100\n",
      "cpp_onlygo 100\n",
      "cpp_onlyleft 100\n",
      "cpp_onlyright 100\n",
      "cpp_stop_line 100\n",
      "cpp_stop_pic 100\n",
      "notleft_sign 100\n",
      "notright_pic 100\n",
      "notstop_pic 100\n"
     ]
    }
   ],
   "source": [
    "import numpy as np\n",
    "import tensorflow as tf\n",
    "from tensorflow import keras\n",
    "from keras.utils import np_utils\n",
    "from glob import glob\n",
    "import cv2\n",
    "from sklearn.utils import shuffle\n",
    "\n",
    "classifications = ['cpp_go_left', 'cpp_go_right', 'cpp_notgo', 'cpp_onlygo', 'cpp_onlyleft', 'cpp_onlyright', 'cpp_stop_line', 'cpp_stop_pic', 'notleft_sign', 'notright_pic', 'notstop_pic']\n",
    "len(classifications)\n",
    "base_path = \"D:\\\\Team\\\\rasp_car\\\\program\\\\image_process\"\n",
    "\n",
    "x_train, y_train = [], []\n",
    "for i, classification in enumerate(classifications):\n",
    "    f_list = glob(f\"{base_path}\\\\{classification}\\\\train\\\\*.png\")\n",
    "    print(classification, len(f_list))\n",
    "    for pic in f_list:\n",
    "        img = cv2.imread(pic, cv2.IMREAD_UNCHANGED)\n",
    "        img = cv2.cvtColor(img, cv2.COLOR_BGRA2BGR)\n",
    "        x_train.append(np.array(img))\n",
    "        y_train.append(np_utils.to_categorical(i, len(classifications)))\n",
    "\n",
    "x_train, y_train = np.array(x_train), np.array(y_train)\n",
    "np.savez_compressed('x_train50x50.npz', x_train)\n",
    "np.savez_compressed('y_train50x50.npz', y_train)\n",
    "x_train, y_train = shuffle(x_train, y_train)\n",
    "x_train, y_train, x_test, y_test = x_train[:-50], y_train[:-50], x_train[-50:], y_train[-50:]"
   ]
  },
  {
   "cell_type": "code",
   "execution_count": 2,
   "id": "c0626767-efe8-4132-ae2f-e263d93742e0",
   "metadata": {
    "pycharm": {
     "name": "#%%\n"
    }
   },
   "outputs": [
    {
     "data": {
      "text/plain": "((1050, 50, 50, 3), (1050, 11), (50, 50, 50, 3), (50, 11))"
     },
     "execution_count": 2,
     "metadata": {},
     "output_type": "execute_result"
    }
   ],
   "source": [
    "x_train.shape, y_train.shape, x_test.shape, y_test.shape"
   ]
  },
  {
   "cell_type": "code",
   "execution_count": null,
   "id": "a69486ab-5745-44cc-a15e-86cc845d4a1f",
   "metadata": {
    "pycharm": {
     "name": "#%%\n"
    }
   },
   "outputs": [],
   "source": []
  }
 ],
 "metadata": {
  "kernelspec": {
   "display_name": "Python 3 (ipykernel)",
   "language": "python",
   "name": "python3"
  },
  "language_info": {
   "codemirror_mode": {
    "name": "ipython",
    "version": 3
   },
   "file_extension": ".py",
   "mimetype": "text/x-python",
   "name": "python",
   "nbconvert_exporter": "python",
   "pygments_lexer": "ipython3",
   "version": "3.10.6"
  }
 },
 "nbformat": 4,
 "nbformat_minor": 5
}