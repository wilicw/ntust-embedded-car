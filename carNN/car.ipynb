{
 "cells": [
  {
   "cell_type": "code",
   "execution_count": 34,
   "metadata": {},
   "outputs": [],
   "source": [
    "import numpy as np\n",
    "import tensorflow as tf\n",
    "import matplotlib.pyplot as plt\n",
    "from tensorflow import keras\n",
    "from keras import layers\n",
    "from keras.models import Sequential\n",
    "from keras.preprocessing.image import ImageDataGenerator\n",
    "from keras.utils import np_utils\n",
    "from sklearn.utils import shuffle"
   ]
  },
  {
   "cell_type": "code",
   "execution_count": 35,
   "metadata": {},
   "outputs": [],
   "source": [
    "def plot_hist(hist):\n",
    "    plt.plot(hist.history[\"loss\"])\n",
    "    plt.plot(hist.history[\"val_loss\"])\n",
    "    plt.plot(hist.history[\"accuracy\"])\n",
    "    plt.plot(hist.history[\"val_accuracy\"])\n",
    "    plt.title(\"model history\")\n",
    "    plt.ylabel(\"value\")\n",
    "    plt.xlabel(\"epoch\")\n",
    "    plt.legend([\"train\", \"val\", \"train loss\", \"val loss\"], loc=\"upper left\")\n",
    "    plt.show()\n"
   ]
  },
  {
   "cell_type": "code",
   "execution_count": 36,
   "metadata": {},
   "outputs": [
    {
     "data": {
      "text/plain": [
       "((9100, 50, 50, 3), (9100, 5), (100, 50, 50, 3), (100, 5))"
      ]
     },
     "execution_count": 36,
     "metadata": {},
     "output_type": "execute_result"
    }
   ],
   "source": [
    "test_size = 100\n",
    "x_train, y_train = np.load(\"x_train50x50.npz\")['arr_0'], np.load(\"y_train50x50.npz\")['arr_0']\n",
    "x_train, y_train = shuffle(x_train, y_train)\n",
    "x_test, y_test = x_train[-test_size:], y_train[-test_size:]\n",
    "x_train, y_train = x_train[:-test_size], y_train[:-test_size]\n",
    "x_train = x_train\n",
    "x_test = x_test\n",
    "x_train.shape, y_train.shape, x_test.shape, y_test.shape"
   ]
  },
  {
   "cell_type": "code",
   "execution_count": 37,
   "metadata": {},
   "outputs": [
    {
     "data": {
      "text/plain": [
       "5"
      ]
     },
     "execution_count": 37,
     "metadata": {},
     "output_type": "execute_result"
    }
   ],
   "source": [
    "# classifications = ['cpp_go_left', 'cpp_go_right', 'cpp_notgo', 'cpp_onlygo', 'cpp_onlyleft', 'cpp_onlyright', 'cpp_stop_line', 'cpp_stop_pic', 'notleft_sign', 'notright_pic', 'notstop_pic']classifications = ['no_right', 'no_stop', 'only_right', 'stop_line', 'stop_pic']\n",
    "classifications = ['no_right', 'no_stop', 'only_right', 'stop_line', 'stop_pic']\n",
    "len(classifications)"
   ]
  },
  {
   "cell_type": "code",
   "execution_count": 38,
   "metadata": {},
   "outputs": [
    {
     "data": {
      "image/png": "[encoded data removed]",
      "text/plain": [
       "<Figure size 432x288 with 1 Axes>"
      ]
     },
     "metadata": {
      "needs_background": "light"
     },
     "output_type": "display_data"
    },
    {
     "name": "stdout",
     "output_type": "stream",
     "text": [
      "stop_pic\n"
     ]
    }
   ],
   "source": [
    "datagen = ImageDataGenerator(\n",
    "    rescale = 1.0/255.0,\n",
    "    featurewise_center=True,\n",
    "    featurewise_std_normalization=True,\n",
    "    channel_shift_range=10,\n",
    "    shear_range=0.2,\n",
    "    zoom_range=0.2,\n",
    "    rotation_range=30,\n",
    ")\n",
    "\n",
    "data = datagen.flow(x_train, y_train, batch_size=64)\n",
    "\n",
    "n = 2\n",
    "plt.imshow(data[n][0][0])\n",
    "plt.show()\n",
    "print(classifications[np.where(data[n][1][0]==1)[0][0]])"
   ]
  },
  {
   "cell_type": "code",
   "execution_count": 39,
   "metadata": {},
   "outputs": [
    {
     "name": "stdout",
     "output_type": "stream",
     "text": [
      "Model: \"sequential_9\"\n",
      "_________________________________________________________________\n",
      " Layer (type)                Output Shape              Param #   \n",
      "=================================================================\n",
      " conv2d_18 (Conv2D)          (None, 50, 50, 1024)      28672     \n",
      "                                                                 \n",
      " max_pooling2d_18 (MaxPoolin  (None, 25, 25, 1024)     0         \n",
      " g2D)                                                            \n",
      "                                                                 \n",
      " conv2d_19 (Conv2D)          (None, 25, 25, 64)        262208    \n",
      "                                                                 \n",
      " max_pooling2d_19 (MaxPoolin  (None, 12, 12, 64)       0         \n",
      " g2D)                                                            \n",
      "                                                                 \n",
      " flatten_9 (Flatten)         (None, 9216)              0         \n",
      "                                                                 \n",
      " dense_27 (Dense)            (None, 512)               4719104   \n",
      "                                                                 \n",
      " dense_28 (Dense)            (None, 256)               131328    \n",
      "                                                                 \n",
      " dense_29 (Dense)            (None, 5)                 1285      \n",
      "                                                                 \n",
      "=================================================================\n",
      "Total params: 5,142,597\n",
      "Trainable params: 5,142,597\n",
      "Non-trainable params: 0\n",
      "_________________________________________________________________\n"
     ]
    }
   ],
   "source": [
    "model = None\n",
    "model = Sequential([\n",
    "    layers.Input(shape=(50, 50, 3)),\n",
    "    # layers.BatchNormalization(),\n",
    "    \n",
    "    layers.Conv2D(1024, kernel_size=(3, 3), padding='same', activation='relu'),\n",
    "    layers.MaxPool2D(pool_size=(2, 2)),\n",
    "    \n",
    "    layers.Conv2D(64, kernel_size=(2, 2), padding='same', activation='relu'),\n",
    "    layers.MaxPool2D(pool_size=(2, 2)),\n",
    "    \n",
    "    layers.Flatten(),\n",
    "    layers.Dense(512, activation='sigmoid'),\n",
    "    layers.Dense(256, activation='sigmoid'),\n",
    "    layers.Dense(len(classifications), activation='softmax'),\n",
    "])\n",
    "\n",
    "model.summary()\n"
   ]
  },
  {
   "cell_type": "code",
   "execution_count": 40,
   "metadata": {},
   "outputs": [
    {
     "name": "stdout",
     "output_type": "stream",
     "text": [
      "Epoch 1/20\n"
     ]
    },
    {
     "name": "stderr",
     "output_type": "stream",
     "text": [
      "/var/folders/hl/fxxy2d3156l2j0q01gfmm_y00000gn/T/ipykernel_63650/4107486625.py:3: UserWarning: `Model.fit_generator` is deprecated and will be removed in a future version. Please use `Model.fit`, which supports generators.\n",
      "  hist = model.fit_generator(data,  epochs=20, verbose=1,\n",
      "2022-08-28 13:27:57.543277: I tensorflow/core/grappler/optimizers/custom_graph_optimizer_registry.cc:113] Plugin optimizer for device_type GPU is enabled.\n"
     ]
    },
    {
     "name": "stdout",
     "output_type": "stream",
     "text": [
      "143/143 [==============================] - ETA: 0s - loss: 0.2350 - accuracy: 0.7209"
     ]
    },
    {
     "name": "stderr",
     "output_type": "stream",
     "text": [
      "2022-08-28 13:28:44.135417: I tensorflow/core/grappler/optimizers/custom_graph_optimizer_registry.cc:113] Plugin optimizer for device_type GPU is enabled.\n"
     ]
    },
    {
     "name": "stdout",
     "output_type": "stream",
     "text": [
      "143/143 [==============================] - 47s 327ms/step - loss: 0.2350 - accuracy: 0.7209 - val_loss: 0.1488 - val_accuracy: 0.8200\n",
      "Epoch 2/20\n",
      "143/143 [==============================] - 46s 320ms/step - loss: 0.0735 - accuracy: 0.9370 - val_loss: 0.0630 - val_accuracy: 0.9400\n",
      "Epoch 3/20\n",
      "143/143 [==============================] - 46s 321ms/step - loss: 0.0383 - accuracy: 0.9669 - val_loss: 0.0952 - val_accuracy: 0.9100\n",
      "Epoch 4/20\n",
      "143/143 [==============================] - 46s 321ms/step - loss: 0.0266 - accuracy: 0.9784 - val_loss: 0.0493 - val_accuracy: 0.9700\n",
      "Epoch 5/20\n",
      "143/143 [==============================] - 46s 323ms/step - loss: 0.0176 - accuracy: 0.9863 - val_loss: 0.0582 - val_accuracy: 0.9600\n",
      "Epoch 6/20\n",
      "143/143 [==============================] - 46s 323ms/step - loss: 0.0196 - accuracy: 0.9835 - val_loss: 0.1438 - val_accuracy: 0.8600\n",
      "Epoch 7/20\n",
      "143/143 [==============================] - 46s 321ms/step - loss: 0.0105 - accuracy: 0.9926 - val_loss: 0.0530 - val_accuracy: 0.9300\n",
      "Epoch 8/20\n",
      "143/143 [==============================] - 45s 316ms/step - loss: 0.0157 - accuracy: 0.9877 - val_loss: 0.1016 - val_accuracy: 0.9300\n",
      "Epoch 9/20\n",
      "143/143 [==============================] - 45s 313ms/step - loss: 0.0086 - accuracy: 0.9934 - val_loss: 0.0238 - val_accuracy: 0.9800\n",
      "Epoch 10/20\n",
      "143/143 [==============================] - 45s 313ms/step - loss: 0.0076 - accuracy: 0.9943 - val_loss: 0.0224 - val_accuracy: 0.9700\n",
      "Epoch 11/20\n",
      "143/143 [==============================] - 45s 313ms/step - loss: 0.0109 - accuracy: 0.9902 - val_loss: 0.1188 - val_accuracy: 0.9200\n",
      "Epoch 12/20\n",
      "143/143 [==============================] - 45s 314ms/step - loss: 0.0058 - accuracy: 0.9951 - val_loss: 0.0562 - val_accuracy: 0.9600\n",
      "Epoch 13/20\n",
      "143/143 [==============================] - 45s 315ms/step - loss: 0.0048 - accuracy: 0.9966 - val_loss: 0.1523 - val_accuracy: 0.9200\n",
      "Epoch 14/20\n",
      "143/143 [==============================] - 45s 314ms/step - loss: 0.0032 - accuracy: 0.9981 - val_loss: 0.0596 - val_accuracy: 0.9500\n",
      "Epoch 15/20\n",
      "143/143 [==============================] - 45s 312ms/step - loss: 0.0042 - accuracy: 0.9964 - val_loss: 0.1069 - val_accuracy: 0.9400\n",
      "Epoch 16/20\n",
      "143/143 [==============================] - 45s 313ms/step - loss: 0.0038 - accuracy: 0.9965 - val_loss: 0.1179 - val_accuracy: 0.9500\n",
      "Epoch 17/20\n",
      "143/143 [==============================] - 45s 313ms/step - loss: 0.0049 - accuracy: 0.9959 - val_loss: 0.0794 - val_accuracy: 0.9700\n",
      "Epoch 18/20\n",
      "143/143 [==============================] - 45s 312ms/step - loss: 0.0033 - accuracy: 0.9971 - val_loss: 0.1704 - val_accuracy: 0.9200\n",
      "Epoch 19/20\n",
      "143/143 [==============================] - 46s 324ms/step - loss: 0.0034 - accuracy: 0.9968 - val_loss: 0.0874 - val_accuracy: 0.9600\n",
      "Epoch 20/20\n",
      "143/143 [==============================] - 46s 321ms/step - loss: 0.0069 - accuracy: 0.9943 - val_loss: 0.1560 - val_accuracy: 0.9300\n",
      "4/4 [==============================] - 0s 38ms/step - loss: 0.1560 - accuracy: 0.9300\n"
     ]
    },
    {
     "data": {
      "image/png": "[encoded data removed]",
      "text/plain": [
       "<Figure size 432x288 with 1 Axes>"
      ]
     },
     "metadata": {
      "needs_background": "light"
     },
     "output_type": "display_data"
    },
    {
     "name": "stdout",
     "output_type": "stream",
     "text": [
      "Test:\n",
      "Loss: 0.15604767203330994\n",
      "Accuracy: 0.9300000071525574\n"
     ]
    }
   ],
   "source": [
    "model.compile(loss='binary_crossentropy',\n",
    "              optimizer='adam', metrics=['accuracy'])\n",
    "hist = model.fit_generator(data,  epochs=10, verbose=1,\n",
    "                           validation_data=(x_test, y_test))\n",
    "loss, accuracy = model.evaluate(x_test, y_test)\n",
    "plot_hist(hist)\n",
    "print('Test:')\n",
    "print('Loss: %s\\nAccuracy: %s' % (loss, accuracy))\n"
   ]
  },
  {
   "cell_type": "code",
   "execution_count": 32,
   "metadata": {},
   "outputs": [
    {
     "name": "stderr",
     "output_type": "stream",
     "text": [
      "2022-08-28 12:53:39.471251: I tensorflow/core/grappler/optimizers/custom_graph_optimizer_registry.cc:113] Plugin optimizer for device_type GPU is enabled.\n"
     ]
    },
    {
     "name": "stdout",
     "output_type": "stream",
     "text": [
      "1/1 [==============================] - 1s 650ms/step\n"
     ]
    },
    {
     "data": {
      "text/plain": [
       "array([[9.9714100e-01, 1.8046845e-06, 3.6770300e-04, 2.4893894e-03,\n",
       "        9.6417182e-08]], dtype=float32)"
      ]
     },
     "execution_count": 32,
     "metadata": {},
     "output_type": "execute_result"
    }
   ],
   "source": [
    "model.predict(np.array([np.zeros((50, 50, 3))]))"
   ]
  },
  {
   "cell_type": "code",
   "execution_count": 41,
   "metadata": {},
   "outputs": [
    {
     "name": "stderr",
     "output_type": "stream",
     "text": [
      "WARNING:absl:Found untraced functions such as _jit_compiled_convolution_op, _jit_compiled_convolution_op while saving (showing 2 of 2). These functions will not be directly callable after loading.\n"
     ]
    },
    {
     "name": "stdout",
     "output_type": "stream",
     "text": [
      "INFO:tensorflow:Assets written to: /var/folders/hl/fxxy2d3156l2j0q01gfmm_y00000gn/T/tmpp3lph5tk/assets\n"
     ]
    },
    {
     "name": "stderr",
     "output_type": "stream",
     "text": [
      "INFO:tensorflow:Assets written to: /var/folders/hl/fxxy2d3156l2j0q01gfmm_y00000gn/T/tmpp3lph5tk/assets\n",
      "2022-08-28 13:45:15.926656: W tensorflow/compiler/mlir/lite/python/tf_tfl_flatbuffer_helpers.cc:362] Ignored output_format.\n",
      "2022-08-28 13:45:15.926668: W tensorflow/compiler/mlir/lite/python/tf_tfl_flatbuffer_helpers.cc:365] Ignored drop_control_dependency.\n",
      "2022-08-28 13:45:15.930027: I tensorflow/cc/saved_model/reader.cc:43] Reading SavedModel from: /var/folders/hl/fxxy2d3156l2j0q01gfmm_y00000gn/T/tmpp3lph5tk\n",
      "2022-08-28 13:45:15.932014: I tensorflow/cc/saved_model/reader.cc:81] Reading meta graph with tags { serve }\n",
      "2022-08-28 13:45:15.932019: I tensorflow/cc/saved_model/reader.cc:122] Reading SavedModel debug info (if present) from: /var/folders/hl/fxxy2d3156l2j0q01gfmm_y00000gn/T/tmpp3lph5tk\n",
      "2022-08-28 13:45:15.935101: I tensorflow/compiler/mlir/mlir_graph_optimization_pass.cc:354] MLIR V1 optimization pass is not enabled\n",
      "2022-08-28 13:45:15.935724: I tensorflow/cc/saved_model/loader.cc:228] Restoring SavedModel bundle.\n",
      "2022-08-28 13:45:16.024765: I tensorflow/cc/saved_model/loader.cc:212] Running initialization op on SavedModel bundle at path: /var/folders/hl/fxxy2d3156l2j0q01gfmm_y00000gn/T/tmpp3lph5tk\n",
      "2022-08-28 13:45:16.033362: I tensorflow/cc/saved_model/loader.cc:301] SavedModel load for tags { serve }; Status: success: OK. Took 103591 microseconds.\n",
      "2022-08-28 13:45:16.067446: I tensorflow/compiler/mlir/tensorflow/utils/dump_mlir_util.cc:263] disabling MLIR crash reproducer, set env var `MLIR_CRASH_REPRODUCER_DIRECTORY` to enable.\n"
     ]
    }
   ],
   "source": [
    "converter = tf.lite.TFLiteConverter.from_keras_model(model)\n",
    "tflite_model = converter.convert()\n",
    "with open(\"model.tflite\", \"wb\") as f:\n",
    "    f.write(tflite_model)"
   ]
  },
  {
   "cell_type": "code",
   "execution_count": 33,
   "metadata": {},
   "outputs": [
    {
     "ename": "ModuleNotFoundError",
     "evalue": "No module named 'cv2'",
     "output_type": "error",
     "traceback": [
      "\u001b[0;31m---------------------------------------------------------------------------\u001b[0m",
      "\u001b[0;31mModuleNotFoundError\u001b[0m                       Traceback (most recent call last)",
      "\u001b[1;32m/Users/ice/Code/python/ntust-embedded-car/carNN/car.ipynb Cell 10'\u001b[0m in \u001b[0;36m<cell line: 1>\u001b[0;34m()\u001b[0m\n\u001b[0;32m----> <a href='vscode-notebook-cell:/Users/ice/Code/python/ntust-embedded-car/carNN/car.ipynb#ch0000009?line=0'>1</a>\u001b[0m \u001b[39mimport\u001b[39;00m \u001b[39mcv2\u001b[39;00m\n\u001b[1;32m      <a href='vscode-notebook-cell:/Users/ice/Code/python/ntust-embedded-car/carNN/car.ipynb#ch0000009?line=1'>2</a>\u001b[0m \u001b[39mfrom\u001b[39;00m \u001b[39mglob\u001b[39;00m \u001b[39mimport\u001b[39;00m glob\n\u001b[1;32m      <a href='vscode-notebook-cell:/Users/ice/Code/python/ntust-embedded-car/carNN/car.ipynb#ch0000009?line=2'>3</a>\u001b[0m f_list \u001b[39m=\u001b[39m glob(\u001b[39mf\u001b[39m\u001b[39m\"\u001b[39m\u001b[39m./*.png\u001b[39m\u001b[39m\"\u001b[39m)\n",
      "\u001b[0;31mModuleNotFoundError\u001b[0m: No module named 'cv2'"
     ]
    }
   ],
   "source": [
    "import cv2\n",
    "from glob import glob\n",
    "f_list = glob(f\"./*.png\")\n",
    "test = []\n",
    "for pic in f_list:\n",
    "  img = cv2.imread(pic, cv2.IMREAD_UNCHANGED)\n",
    "  img = cv2.cvtColor(img, cv2.COLOR_BGRA2BGR)\n",
    "  test.append(np.array(img))\n",
    "  plt.imshow(img)\n",
    "  plt.show()\n",
    "  predict = model.predict(np.array([img]))\n",
    "  print(classifications[predict.argmax()], f\"{predict.max() * 100}%\")\n",
    "  "
   ]
  },
  {
   "cell_type": "code",
   "execution_count": null,
   "metadata": {},
   "outputs": [],
   "source": []
  }
 ],
 "metadata": {
  "interpreter": {
   "hash": "52ee2977380704a66854748a73250e0671a9318bd5b3fd45a3df9f851ae61629"
  },
  "kernelspec": {
   "display_name": "Python 3 (ipykernel)",
   "language": "python",
   "name": "python3"
  },
  "language_info": {
   "codemirror_mode": {
    "name": "ipython",
    "version": 3
   },
   "file_extension": ".py",
   "mimetype": "text/x-python",
   "name": "python",
   "nbconvert_exporter": "python",
   "pygments_lexer": "ipython3",
   "version": "3.10.5"
  }
 },
 "nbformat": 4,
 "nbformat_minor": 4
}
