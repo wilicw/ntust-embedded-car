{
 "cells": [
  {
   "cell_type": "code",
   "execution_count": 48,
   "metadata": {},
   "outputs": [],
   "source": [
    "import numpy as np\n",
    "import tensorflow as tf\n",
    "import matplotlib.pyplot as plt\n",
    "from tensorflow import keras\n",
    "from keras import layers\n",
    "from keras.models import Sequential\n",
    "from keras.preprocessing.image import ImageDataGenerator\n",
    "from keras.utils import np_utils\n",
    "from sklearn.utils import shuffle"
   ]
  },
  {
   "cell_type": "code",
   "execution_count": 49,
   "metadata": {},
   "outputs": [],
   "source": [
    "def plot_hist(hist):\n",
    "    plt.plot(hist.history[\"loss\"])\n",
    "    plt.plot(hist.history[\"val_loss\"])\n",
    "    plt.plot(hist.history[\"accuracy\"])\n",
    "    plt.plot(hist.history[\"val_accuracy\"])\n",
    "    plt.title(\"model history\")\n",
    "    plt.ylabel(\"value\")\n",
    "    plt.xlabel(\"epoch\")\n",
    "    plt.legend([\"train_loss\", \"val_loss\", \"train\", \"val\"], loc=\"upper left\")\n",
    "    plt.show()"
   ]
  },
  {
   "cell_type": "code",
   "execution_count": 50,
   "metadata": {},
   "outputs": [
    {
     "data": {
      "text/plain": [
       "((9200, 50, 50, 3), (9200, 5), (817, 50, 50, 3), (817, 5))"
      ]
     },
     "execution_count": 50,
     "metadata": {},
     "output_type": "execute_result"
    }
   ],
   "source": [
    "x_train, y_train = np.load(\"x_train50x50.npz\")['arr_0'], np.load(\"y_train50x50.npz\")['arr_0']\n",
    "x_test, y_test = np.load(\"test_x_train50x50.npz\")['arr_0'], np.load(\"test_y_train50x50.npz\")['arr_0']\n",
    "x_train, y_train = shuffle(x_train, y_train)\n",
    "x_train.shape, y_train.shape, x_test.shape, y_test.shape"
   ]
  },
  {
   "cell_type": "code",
   "execution_count": 51,
   "metadata": {},
   "outputs": [
    {
     "data": {
      "text/plain": [
       "5"
      ]
     },
     "execution_count": 51,
     "metadata": {},
     "output_type": "execute_result"
    }
   ],
   "source": [
    "# classifications = ['cpp_go_left', 'cpp_go_right', 'cpp_notgo', 'cpp_onlygo', 'cpp_onlyleft', 'cpp_onlyright', 'cpp_stop_line', 'cpp_stop_pic', 'notleft_sign', 'notright_pic', 'notstop_pic']classifications = ['no_right', 'no_stop', 'only_right', 'stop_line', 'stop_pic']\n",
    "classifications = ['no_right', 'no_stop', 'only_right', 'stop_line', 'stop_pic']\n",
    "len(classifications)"
   ]
  },
  {
   "cell_type": "code",
   "execution_count": 52,
   "metadata": {},
   "outputs": [
    {
     "name": "stderr",
     "output_type": "stream",
     "text": [
      "/opt/homebrew/Caskroom/miniforge/base/envs/tf/lib/python3.10/site-packages/keras/preprocessing/image.py:1663: UserWarning: This ImageDataGenerator specifies `featurewise_center`, but it hasn't been fit on any training data. Fit it first by calling `.fit(numpy_data)`.\n",
      "  warnings.warn('This ImageDataGenerator specifies '\n",
      "/opt/homebrew/Caskroom/miniforge/base/envs/tf/lib/python3.10/site-packages/keras/preprocessing/image.py:1671: UserWarning: This ImageDataGenerator specifies `featurewise_std_normalization`, but it hasn't been fit on any training data. Fit it first by calling `.fit(numpy_data)`.\n",
      "  warnings.warn('This ImageDataGenerator specifies '\n"
     ]
    },
    {
     "data": {
      "image/png": "[encoded data removed]",
      "text/plain": [
       "<Figure size 432x288 with 1 Axes>"
      ]
     },
     "metadata": {
      "needs_background": "light"
     },
     "output_type": "display_data"
    },
    {
     "name": "stdout",
     "output_type": "stream",
     "text": [
      "stop_line\n"
     ]
    }
   ],
   "source": [
    "datagen = ImageDataGenerator(\n",
    "    rescale = 1.0/255.0,\n",
    "    featurewise_center=True,\n",
    "    featurewise_std_normalization=True,\n",
    "    channel_shift_range=10,\n",
    "    shear_range=0.2,\n",
    "    zoom_range=0.2,\n",
    "    rotation_range=90,\n",
    ")\n",
    "\n",
    "data = datagen.flow(x_train, y_train, batch_size=64)\n",
    "\n",
    "n = 2\n",
    "plt.imshow(data[n][0][0])\n",
    "plt.show()\n",
    "print(classifications[np.where(data[n][1][0]==1)[0][0]])"
   ]
  },
  {
   "cell_type": "code",
   "execution_count": 53,
   "metadata": {},
   "outputs": [
    {
     "name": "stdout",
     "output_type": "stream",
     "text": [
      "Model: \"sequential_1\"\n",
      "_________________________________________________________________\n",
      " Layer (type)                Output Shape              Param #   \n",
      "=================================================================\n",
      " conv2d_2 (Conv2D)           (None, 50, 50, 1024)      28672     \n",
      "                                                                 \n",
      " max_pooling2d_2 (MaxPooling  (None, 25, 25, 1024)     0         \n",
      " 2D)                                                             \n",
      "                                                                 \n",
      " conv2d_3 (Conv2D)           (None, 25, 25, 64)        262208    \n",
      "                                                                 \n",
      " max_pooling2d_3 (MaxPooling  (None, 12, 12, 64)       0         \n",
      " 2D)                                                             \n",
      "                                                                 \n",
      " flatten_1 (Flatten)         (None, 9216)              0         \n",
      "                                                                 \n",
      " dense_3 (Dense)             (None, 512)               4719104   \n",
      "                                                                 \n",
      " dense_4 (Dense)             (None, 256)               131328    \n",
      "                                                                 \n",
      " dense_5 (Dense)             (None, 5)                 1285      \n",
      "                                                                 \n",
      "=================================================================\n",
      "Total params: 5,142,597\n",
      "Trainable params: 5,142,597\n",
      "Non-trainable params: 0\n",
      "_________________________________________________________________\n"
     ]
    }
   ],
   "source": [
    "model = None\n",
    "model = Sequential([\n",
    "    layers.Input(shape=(50, 50, 3)),\n",
    "    # layers.BatchNormalization(),\n",
    "    \n",
    "    layers.Conv2D(1024, kernel_size=(3, 3), padding='same', activation='relu'),\n",
    "    layers.MaxPool2D(pool_size=(2, 2)),\n",
    "    \n",
    "    layers.Conv2D(64, kernel_size=(2, 2), padding='same', activation='relu'),\n",
    "    layers.MaxPool2D(pool_size=(2, 2)),\n",
    "    \n",
    "    layers.Flatten(),\n",
    "    layers.Dense(512, activation='sigmoid'),\n",
    "    layers.Dense(256, activation='sigmoid'),\n",
    "    layers.Dense(len(classifications), activation='softmax'),\n",
    "])\n",
    "\n",
    "model.summary()\n"
   ]
  },
  {
   "cell_type": "code",
   "execution_count": 54,
   "metadata": {},
   "outputs": [
    {
     "name": "stdout",
     "output_type": "stream",
     "text": [
      "Epoch 1/5\n"
     ]
    },
    {
     "name": "stderr",
     "output_type": "stream",
     "text": [
      "/var/folders/tz/3mdp4k9x3k94jf1r3s37rps80000gn/T/ipykernel_76386/2407853362.py:3: UserWarning: `Model.fit_generator` is deprecated and will be removed in a future version. Please use `Model.fit`, which supports generators.\n",
      "  hist = model.fit_generator(data,  epochs=5, verbose=1,\n",
      "2022-08-28 16:56:23.292853: I tensorflow/core/grappler/optimizers/custom_graph_optimizer_registry.cc:113] Plugin optimizer for device_type GPU is enabled.\n"
     ]
    },
    {
     "name": "stdout",
     "output_type": "stream",
     "text": [
      "144/144 [==============================] - ETA: 0s - loss: 0.2546 - accuracy: 0.6930"
     ]
    },
    {
     "name": "stderr",
     "output_type": "stream",
     "text": [
      "2022-08-28 16:57:27.943372: I tensorflow/core/grappler/optimizers/custom_graph_optimizer_registry.cc:113] Plugin optimizer for device_type GPU is enabled.\n"
     ]
    },
    {
     "name": "stdout",
     "output_type": "stream",
     "text": [
      "144/144 [==============================] - 67s 455ms/step - loss: 0.2546 - accuracy: 0.6930 - val_loss: 0.3611 - val_accuracy: 0.5373\n",
      "Epoch 2/5\n",
      "144/144 [==============================] - 69s 477ms/step - loss: 0.1027 - accuracy: 0.8952 - val_loss: 0.1456 - val_accuracy: 0.8237\n",
      "Epoch 3/5\n",
      "144/144 [==============================] - 80s 544ms/step - loss: 0.0518 - accuracy: 0.9550 - val_loss: 0.2178 - val_accuracy: 0.7944\n",
      "Epoch 4/5\n",
      "144/144 [==============================] - 105s 724ms/step - loss: 0.0367 - accuracy: 0.9688 - val_loss: 0.0604 - val_accuracy: 0.9449\n",
      "Epoch 5/5\n",
      "144/144 [==============================] - 156s 1s/step - loss: 0.0222 - accuracy: 0.9816 - val_loss: 0.1090 - val_accuracy: 0.8923\n",
      "26/26 [==============================] - 5s 189ms/step - loss: 0.1090 - accuracy: 0.8923\n"
     ]
    },
    {
     "data": {
      "image/png": "[encoded data removed]",
      "text/plain": [
       "<Figure size 432x288 with 1 Axes>"
      ]
     },
     "metadata": {
      "needs_background": "light"
     },
     "output_type": "display_data"
    },
    {
     "name": "stdout",
     "output_type": "stream",
     "text": [
      "Test:\n",
      "Loss: 0.10900748521089554\n",
      "Accuracy: 0.892288863658905\n"
     ]
    }
   ],
   "source": [
    "model.compile(loss='binary_crossentropy',\n",
    "              optimizer='adam', metrics=['accuracy'])\n",
    "epochs= 5\n",
    "hist = model.fit_generator(data, epochs=epochs, verbose=1,\n",
    "                           validation_data=(x_test, y_test))\n",
    "loss, accuracy = model.evaluate(x_test, y_test)\n",
    "plot_hist(hist)\n",
    "print('Test:')\n",
    "print('Loss: %s\\nAccuracy: %s' % (loss, accuracy))\n"
   ]
  },
  {
   "cell_type": "code",
   "execution_count": 56,
   "metadata": {},
   "outputs": [
    {
     "name": "stderr",
     "output_type": "stream",
     "text": [
      "WARNING:absl:Found untraced functions such as _jit_compiled_convolution_op, _jit_compiled_convolution_op while saving (showing 2 of 2). These functions will not be directly callable after loading.\n"
     ]
    },
    {
     "name": "stdout",
     "output_type": "stream",
     "text": [
      "INFO:tensorflow:Assets written to: /var/folders/tz/3mdp4k9x3k94jf1r3s37rps80000gn/T/tmpdllwmt1u/assets\n"
     ]
    },
    {
     "name": "stderr",
     "output_type": "stream",
     "text": [
      "INFO:tensorflow:Assets written to: /var/folders/tz/3mdp4k9x3k94jf1r3s37rps80000gn/T/tmpdllwmt1u/assets\n",
      "2022-08-28 17:04:44.891326: W tensorflow/compiler/mlir/lite/python/tf_tfl_flatbuffer_helpers.cc:362] Ignored output_format.\n",
      "2022-08-28 17:04:44.891543: W tensorflow/compiler/mlir/lite/python/tf_tfl_flatbuffer_helpers.cc:365] Ignored drop_control_dependency.\n",
      "2022-08-28 17:04:44.892859: I tensorflow/cc/saved_model/reader.cc:43] Reading SavedModel from: /var/folders/tz/3mdp4k9x3k94jf1r3s37rps80000gn/T/tmpdllwmt1u\n",
      "2022-08-28 17:04:44.895314: I tensorflow/cc/saved_model/reader.cc:81] Reading meta graph with tags { serve }\n",
      "2022-08-28 17:04:44.895323: I tensorflow/cc/saved_model/reader.cc:122] Reading SavedModel debug info (if present) from: /var/folders/tz/3mdp4k9x3k94jf1r3s37rps80000gn/T/tmpdllwmt1u\n",
      "2022-08-28 17:04:44.901019: I tensorflow/cc/saved_model/loader.cc:228] Restoring SavedModel bundle.\n",
      "2022-08-28 17:04:45.016592: I tensorflow/cc/saved_model/loader.cc:212] Running initialization op on SavedModel bundle at path: /var/folders/tz/3mdp4k9x3k94jf1r3s37rps80000gn/T/tmpdllwmt1u\n",
      "2022-08-28 17:04:45.033026: I tensorflow/cc/saved_model/loader.cc:301] SavedModel load for tags { serve }; Status: success: OK. Took 140192 microseconds.\n"
     ]
    }
   ],
   "source": [
    "converter = tf.lite.TFLiteConverter.from_keras_model(model)\n",
    "tflite_model = converter.convert()\n",
    "with open(f\"model_{epochs}.tflite\", \"wb\") as f:\n",
    "    f.write(tflite_model)"
   ]
  },
  {
   "cell_type": "code",
   "execution_count": 57,
   "metadata": {},
   "outputs": [
    {
     "name": "stdout",
     "output_type": "stream",
     "text": [
      "{'name': 'serving_default_input_2:0', 'index': 0, 'shape': array([ 1, 50, 50,  3], dtype=int32), 'shape_signature': array([-1, 50, 50,  3], dtype=int32), 'dtype': <class 'numpy.float32'>, 'quantization': (0.0, 0), 'quantization_parameters': {'scales': array([], dtype=float32), 'zero_points': array([], dtype=int32), 'quantized_dimension': 0}, 'sparsity_parameters': {}}\n"
     ]
    }
   ],
   "source": [
    "epochs = 5\n",
    "with open(f\"model_{epochs}.tflite\", 'rb') as fid:\n",
    "    tflite_model = fid.read()\n",
    "    \n",
    "interpreter = tf.lite.Interpreter(model_content=tflite_model)\n",
    "interpreter.allocate_tensors()\n",
    "\n",
    "input_index = interpreter.get_input_details()[0][\"index\"]\n",
    "output_index = interpreter.get_output_details()[0][\"index\"]\n",
    "\n",
    "print(interpreter.get_input_details()[0])"
   ]
  },
  {
   "cell_type": "code",
   "execution_count": 58,
   "metadata": {},
   "outputs": [
    {
     "name": "stdout",
     "output_type": "stream",
     "text": [
      "0.8922888616891065\n"
     ]
    }
   ],
   "source": [
    "correct = 0\n",
    "for x, y in zip(x_test, y_test):\n",
    "  interpreter.set_tensor(input_index, np.array([x.astype(np.float32)]))\n",
    "  interpreter.invoke()\n",
    "  output = interpreter.get_tensor(output_index)\n",
    "  answer = np.argmax(y)\n",
    "  if np.argmax(output) == answer:\n",
    "    correct += 1\n",
    "  else:\n",
    "    continue\n",
    "    print(classifications[np.argmax(output)], output)\n",
    "    plt.imshow(x)\n",
    "    plt.show()\n",
    "\n",
    "print(correct / len(x_test))"
   ]
  },
  {
   "cell_type": "code",
   "execution_count": null,
   "metadata": {},
   "outputs": [],
   "source": []
  }
 ],
 "metadata": {
  "interpreter": {
   "hash": "52ee2977380704a66854748a73250e0671a9318bd5b3fd45a3df9f851ae61629"
  },
  "kernelspec": {
   "display_name": "Python 3 (ipykernel)",
   "language": "python",
   "name": "python3"
  },
  "language_info": {
   "codemirror_mode": {
    "name": "ipython",
    "version": 3
   },
   "file_extension": ".py",
   "mimetype": "text/x-python",
   "name": "python",
   "nbconvert_exporter": "python",
   "pygments_lexer": "ipython3",
   "version": "3.10.5"
  }
 },
 "nbformat": 4,
 "nbformat_minor": 4
}
