{
 "cells": [
  {
   "cell_type": "code",
   "execution_count": 1,
   "metadata": {},
   "outputs": [],
   "source": [
    "import numpy as np\n",
    "import tensorflow as tf\n",
    "import matplotlib.pyplot as plt\n",
    "from tensorflow import keras\n",
    "from keras import layers\n",
    "from keras.models import Sequential\n",
    "from keras.preprocessing.image import ImageDataGenerator\n",
    "from keras.utils import np_utils\n",
    "from sklearn.utils import shuffle"
   ]
  },
  {
   "cell_type": "code",
   "execution_count": 2,
   "metadata": {},
   "outputs": [],
   "source": [
    "def plot_hist(hist):\n",
    "    plt.plot(hist.history[\"accuracy\"])\n",
    "    plt.plot(hist.history[\"val_accuracy\"])\n",
    "    plt.title(\"model accuracy\")\n",
    "    plt.ylabel(\"accuracy\")\n",
    "    plt.xlabel(\"epoch\")\n",
    "    plt.legend([\"train\", \"validation\"], loc=\"upper left\")\n",
    "    plt.show()\n"
   ]
  },
  {
   "cell_type": "code",
   "execution_count": 3,
   "metadata": {},
   "outputs": [
    {
     "data": {
      "text/plain": [
       "((1000, 50, 50, 3), (1000, 11), (100, 50, 50, 3), (100, 11))"
      ]
     },
     "execution_count": 3,
     "metadata": {},
     "output_type": "execute_result"
    }
   ],
   "source": [
    "test_size = 100\n",
    "x_train, y_train = np.load(\"x_train50x50.npz\")['arr_0'], np.load(\"y_train50x50.npz\")['arr_0']\n",
    "x_train, y_train = shuffle(x_train, y_train)\n",
    "x_test, y_test = x_train[-test_size:], y_train[-test_size:]\n",
    "x_train, y_train = x_train[:-test_size], y_train[:-test_size]\n",
    "x_train = x_train\n",
    "x_test = x_test\n",
    "x_train.shape, y_train.shape, x_test.shape, y_test.shape"
   ]
  },
  {
   "cell_type": "code",
   "execution_count": 4,
   "metadata": {},
   "outputs": [
    {
     "data": {
      "text/plain": [
       "11"
      ]
     },
     "execution_count": 4,
     "metadata": {},
     "output_type": "execute_result"
    }
   ],
   "source": [
    "classifications = ['cpp_go_left', 'cpp_go_right', 'cpp_notgo', 'cpp_onlygo', 'cpp_onlyleft', 'cpp_onlyright', 'cpp_stop_line', 'cpp_stop_pic', 'notleft_sign', 'notright_pic', 'notstop_pic']\n",
    "len(classifications)"
   ]
  },
  {
   "cell_type": "code",
   "execution_count": 5,
   "metadata": {},
   "outputs": [
    {
     "name": "stderr",
     "output_type": "stream",
     "text": [
      "/opt/homebrew/Caskroom/miniforge/base/envs/tf/lib/python3.10/site-packages/keras/preprocessing/image.py:1663: UserWarning: This ImageDataGenerator specifies `featurewise_center`, but it hasn't been fit on any training data. Fit it first by calling `.fit(numpy_data)`.\n",
      "  warnings.warn('This ImageDataGenerator specifies '\n",
      "/opt/homebrew/Caskroom/miniforge/base/envs/tf/lib/python3.10/site-packages/keras/preprocessing/image.py:1671: UserWarning: This ImageDataGenerator specifies `featurewise_std_normalization`, but it hasn't been fit on any training data. Fit it first by calling `.fit(numpy_data)`.\n",
      "  warnings.warn('This ImageDataGenerator specifies '\n"
     ]
    },
    {
     "data": {
      "image/png": "[encoded data removed]",
      "text/plain": [
       "<Figure size 432x288 with 1 Axes>"
      ]
     },
     "metadata": {
      "needs_background": "light"
     },
     "output_type": "display_data"
    },
    {
     "name": "stdout",
     "output_type": "stream",
     "text": [
      "cpp_stop_pic\n"
     ]
    }
   ],
   "source": [
    "datagen = ImageDataGenerator(\n",
    "    rescale = 1.0/255.0,\n",
    "    featurewise_center=True,\n",
    "    featurewise_std_normalization=True,\n",
    "    channel_shift_range=10,\n",
    "    shear_range=0.2,\n",
    "    zoom_range=0.2,\n",
    "    rotation_range=30,\n",
    ")\n",
    "\n",
    "data = datagen.flow(x_train, y_train, batch_size=32)\n",
    "\n",
    "n = 16\n",
    "plt.imshow(data[n][0][0])\n",
    "plt.show()\n",
    "print(classifications[np.where(data[n][1][0]==1)[0][0]])"
   ]
  },
  {
   "cell_type": "code",
   "execution_count": 6,
   "metadata": {},
   "outputs": [
    {
     "name": "stderr",
     "output_type": "stream",
     "text": [
      "2022-08-15 09:49:21.086807: I tensorflow/core/common_runtime/pluggable_device/pluggable_device_factory.cc:305] Could not identify NUMA node of platform GPU ID 0, defaulting to 0. Your kernel may not have been built with NUMA support.\n",
      "2022-08-15 09:49:21.087691: I tensorflow/core/common_runtime/pluggable_device/pluggable_device_factory.cc:271] Created TensorFlow device (/job:localhost/replica:0/task:0/device:GPU:0 with 0 MB memory) -> physical PluggableDevice (device: 0, name: METAL, pci bus id: <undefined>)\n"
     ]
    },
    {
     "name": "stdout",
     "output_type": "stream",
     "text": [
      "Metal device set to: Apple M1\n",
      "\n",
      "systemMemory: 8.00 GB\n",
      "maxCacheSize: 2.67 GB\n",
      "\n",
      "Model: \"sequential\"\n",
      "_________________________________________________________________\n",
      " Layer (type)                Output Shape              Param #   \n",
      "=================================================================\n",
      " conv2d (Conv2D)             (None, 50, 50, 64)        832       \n",
      "                                                                 \n",
      " max_pooling2d (MaxPooling2D  (None, 25, 25, 64)       0         \n",
      " )                                                               \n",
      "                                                                 \n",
      " conv2d_1 (Conv2D)           (None, 25, 25, 32)        8224      \n",
      "                                                                 \n",
      " max_pooling2d_1 (MaxPooling  (None, 12, 12, 32)       0         \n",
      " 2D)                                                             \n",
      "                                                                 \n",
      " flatten (Flatten)           (None, 4608)              0         \n",
      "                                                                 \n",
      " dense (Dense)               (None, 500)               2304500   \n",
      "                                                                 \n",
      " dense_1 (Dense)             (None, 200)               100200    \n",
      "                                                                 \n",
      " dense_2 (Dense)             (None, 11)                2211      \n",
      "                                                                 \n",
      "=================================================================\n",
      "Total params: 2,415,967\n",
      "Trainable params: 2,415,967\n",
      "Non-trainable params: 0\n",
      "_________________________________________________________________\n"
     ]
    }
   ],
   "source": [
    "model = None\n",
    "model = Sequential([\n",
    "    layers.Input(shape=(50, 50, 3)),\n",
    "    # layers.BatchNormalization(),\n",
    "    \n",
    "    layers.Conv2D(64, kernel_size=(2, 2), padding='same', activation='relu'),\n",
    "    layers.MaxPool2D(pool_size=(2, 2)),\n",
    "    \n",
    "    layers.Conv2D(32, kernel_size=(2, 2), padding='same', activation='relu'),\n",
    "    layers.MaxPool2D(pool_size=(2, 2)),\n",
    "    \n",
    "    layers.Flatten(),\n",
    "    layers.Dense(500, activation='sigmoid'),\n",
    "    layers.Dense(200, activation='sigmoid'),\n",
    "    layers.Dense(len(classifications), activation='softmax'),\n",
    "])\n",
    "\n",
    "model.summary()\n"
   ]
  },
  {
   "cell_type": "code",
   "execution_count": 7,
   "metadata": {},
   "outputs": [
    {
     "name": "stdout",
     "output_type": "stream",
     "text": [
      "Epoch 1/15\n"
     ]
    },
    {
     "name": "stderr",
     "output_type": "stream",
     "text": [
      "/var/folders/tz/3mdp4k9x3k94jf1r3s37rps80000gn/T/ipykernel_98638/128467735.py:4: UserWarning: `Model.fit_generator` is deprecated and will be removed in a future version. Please use `Model.fit`, which supports generators.\n",
      "  hist = model.fit_generator(data,  epochs=15, verbose=1,\n",
      "2022-08-15 09:49:21.470974: W tensorflow/core/platform/profile_utils/cpu_utils.cc:128] Failed to get CPU frequency: 0 Hz\n",
      "2022-08-15 09:49:21.832855: I tensorflow/core/grappler/optimizers/custom_graph_optimizer_registry.cc:113] Plugin optimizer for device_type GPU is enabled.\n"
     ]
    },
    {
     "name": "stdout",
     "output_type": "stream",
     "text": [
      "32/32 [==============================] - 2s 35ms/step - loss: 0.3357 - accuracy: 0.1040 - val_loss: 0.2865 - val_accuracy: 0.2500\n",
      "Epoch 2/15\n",
      " 1/32 [..............................] - ETA: 1s - loss: 0.2849 - accuracy: 0.2500"
     ]
    },
    {
     "name": "stderr",
     "output_type": "stream",
     "text": [
      "2022-08-15 09:49:23.186301: I tensorflow/core/grappler/optimizers/custom_graph_optimizer_registry.cc:113] Plugin optimizer for device_type GPU is enabled.\n"
     ]
    },
    {
     "name": "stdout",
     "output_type": "stream",
     "text": [
      "32/32 [==============================] - 1s 28ms/step - loss: 0.2670 - accuracy: 0.3030 - val_loss: 0.2527 - val_accuracy: 0.3200\n",
      "Epoch 3/15\n",
      "32/32 [==============================] - 1s 24ms/step - loss: 0.2333 - accuracy: 0.4870 - val_loss: 0.2158 - val_accuracy: 0.5000\n",
      "Epoch 4/15\n",
      "32/32 [==============================] - 1s 27ms/step - loss: 0.1974 - accuracy: 0.6640 - val_loss: 0.1799 - val_accuracy: 0.8400\n",
      "Epoch 5/15\n",
      "32/32 [==============================] - 1s 22ms/step - loss: 0.1589 - accuracy: 0.7700 - val_loss: 0.1459 - val_accuracy: 0.8400\n",
      "Epoch 6/15\n",
      "32/32 [==============================] - 1s 22ms/step - loss: 0.1276 - accuracy: 0.8200 - val_loss: 0.1192 - val_accuracy: 0.7900\n",
      "Epoch 7/15\n",
      "32/32 [==============================] - 1s 23ms/step - loss: 0.1016 - accuracy: 0.8850 - val_loss: 0.0916 - val_accuracy: 0.9100\n",
      "Epoch 8/15\n",
      "32/32 [==============================] - 1s 21ms/step - loss: 0.0835 - accuracy: 0.9180 - val_loss: 0.0749 - val_accuracy: 0.9400\n",
      "Epoch 9/15\n",
      "32/32 [==============================] - 1s 22ms/step - loss: 0.0681 - accuracy: 0.9460 - val_loss: 0.0655 - val_accuracy: 0.9700\n",
      "Epoch 10/15\n",
      "32/32 [==============================] - 1s 23ms/step - loss: 0.0562 - accuracy: 0.9430 - val_loss: 0.0549 - val_accuracy: 0.9700\n",
      "Epoch 11/15\n",
      "32/32 [==============================] - 1s 24ms/step - loss: 0.0471 - accuracy: 0.9760 - val_loss: 0.0426 - val_accuracy: 0.9900\n",
      "Epoch 12/15\n",
      "32/32 [==============================] - 1s 23ms/step - loss: 0.0370 - accuracy: 0.9810 - val_loss: 0.0372 - val_accuracy: 0.9900\n",
      "Epoch 13/15\n",
      "32/32 [==============================] - 1s 21ms/step - loss: 0.0301 - accuracy: 0.9870 - val_loss: 0.0290 - val_accuracy: 0.9900\n",
      "Epoch 14/15\n",
      "32/32 [==============================] - 1s 21ms/step - loss: 0.0236 - accuracy: 0.9950 - val_loss: 0.0238 - val_accuracy: 0.9900\n",
      "Epoch 15/15\n",
      "32/32 [==============================] - 1s 21ms/step - loss: 0.0187 - accuracy: 0.9940 - val_loss: 0.0241 - val_accuracy: 0.9900\n",
      "4/4 [==============================] - 0s 7ms/step - loss: 0.0241 - accuracy: 0.9900\n"
     ]
    },
    {
     "data": {
      "image/png": "[encoded data removed]",
      "text/plain": [
       "<Figure size 432x288 with 1 Axes>"
      ]
     },
     "metadata": {
      "needs_background": "light"
     },
     "output_type": "display_data"
    },
    {
     "name": "stdout",
     "output_type": "stream",
     "text": [
      "Test:\n",
      "Loss: 0.024125486612319946\n",
      "Accuracy: 0.9899999499320984\n"
     ]
    }
   ],
   "source": [
    "model.compile(loss='binary_crossentropy',\n",
    "              optimizer='adam', metrics=['accuracy'])\n",
    "hist = model.fit_generator(data,  epochs=15, verbose=1,\n",
    "                           validation_data=(x_test, y_test))\n",
    "loss, accuracy = model.evaluate(x_test, y_test)\n",
    "plot_hist(hist)\n",
    "print('Test:')\n",
    "print('Loss: %s\\nAccuracy: %s' % (loss, accuracy))\n"
   ]
  },
  {
   "cell_type": "code",
   "execution_count": 8,
   "metadata": {},
   "outputs": [
    {
     "name": "stderr",
     "output_type": "stream",
     "text": [
      "WARNING:absl:Found untraced functions such as _jit_compiled_convolution_op, _jit_compiled_convolution_op while saving (showing 2 of 2). These functions will not be directly callable after loading.\n"
     ]
    },
    {
     "name": "stdout",
     "output_type": "stream",
     "text": [
      "INFO:tensorflow:Assets written to: /var/folders/tz/3mdp4k9x3k94jf1r3s37rps80000gn/T/tmph2xs8wy8/assets\n"
     ]
    },
    {
     "name": "stderr",
     "output_type": "stream",
     "text": [
      "INFO:tensorflow:Assets written to: /var/folders/tz/3mdp4k9x3k94jf1r3s37rps80000gn/T/tmph2xs8wy8/assets\n",
      "2022-08-15 09:49:36.160227: W tensorflow/compiler/mlir/lite/python/tf_tfl_flatbuffer_helpers.cc:362] Ignored output_format.\n",
      "2022-08-15 09:49:36.160247: W tensorflow/compiler/mlir/lite/python/tf_tfl_flatbuffer_helpers.cc:365] Ignored drop_control_dependency.\n",
      "2022-08-15 09:49:36.160973: I tensorflow/cc/saved_model/reader.cc:43] Reading SavedModel from: /var/folders/tz/3mdp4k9x3k94jf1r3s37rps80000gn/T/tmph2xs8wy8\n",
      "2022-08-15 09:49:36.162179: I tensorflow/cc/saved_model/reader.cc:81] Reading meta graph with tags { serve }\n",
      "2022-08-15 09:49:36.162189: I tensorflow/cc/saved_model/reader.cc:122] Reading SavedModel debug info (if present) from: /var/folders/tz/3mdp4k9x3k94jf1r3s37rps80000gn/T/tmph2xs8wy8\n",
      "2022-08-15 09:49:36.166332: I tensorflow/compiler/mlir/mlir_graph_optimization_pass.cc:354] MLIR V1 optimization pass is not enabled\n",
      "2022-08-15 09:49:36.167976: I tensorflow/cc/saved_model/loader.cc:228] Restoring SavedModel bundle.\n",
      "2022-08-15 09:49:36.242280: I tensorflow/cc/saved_model/loader.cc:212] Running initialization op on SavedModel bundle at path: /var/folders/tz/3mdp4k9x3k94jf1r3s37rps80000gn/T/tmph2xs8wy8\n",
      "2022-08-15 09:49:36.255726: I tensorflow/cc/saved_model/loader.cc:301] SavedModel load for tags { serve }; Status: success: OK. Took 94765 microseconds.\n",
      "2022-08-15 09:49:36.296262: I tensorflow/compiler/mlir/tensorflow/utils/dump_mlir_util.cc:263] disabling MLIR crash reproducer, set env var `MLIR_CRASH_REPRODUCER_DIRECTORY` to enable.\n"
     ]
    }
   ],
   "source": [
    "converter = tf.lite.TFLiteConverter.from_keras_model(model)\n",
    "tflite_model = converter.convert()\n",
    "with open(\"model.tflite\", \"wb\") as f:\n",
    "    f.write(tflite_model)"
   ]
  },
  {
   "cell_type": "code",
   "execution_count": null,
   "metadata": {},
   "outputs": [],
   "source": []
  }
 ],
 "metadata": {
  "interpreter": {
   "hash": "52ee2977380704a66854748a73250e0671a9318bd5b3fd45a3df9f851ae61629"
  },
  "kernelspec": {
   "display_name": "Python 3 (ipykernel)",
   "language": "python",
   "name": "python3"
  },
  "language_info": {
   "codemirror_mode": {
    "name": "ipython",
    "version": 3
   },
   "file_extension": ".py",
   "mimetype": "text/x-python",
   "name": "python",
   "nbconvert_exporter": "python",
   "pygments_lexer": "ipython3",
   "version": "3.10.5"
  }
 },
 "nbformat": 4,
 "nbformat_minor": 4
}
