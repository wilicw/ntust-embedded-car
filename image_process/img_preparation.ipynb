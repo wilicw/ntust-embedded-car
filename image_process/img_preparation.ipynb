{
 "cells": [
  {
   "cell_type": "code",
   "execution_count": 1,
   "id": "56ba837e",
   "metadata": {},
   "outputs": [],
   "source": [
    "import cv2\n",
    "import numpy as np\n",
    "from matplotlib import pyplot as plt\n",
    "# read the image\n",
    "image=cv2.imread('right0.jpg')"
   ]
  },
  {
   "cell_type": "code",
   "execution_count": null,
   "id": "be095f9b",
   "metadata": {},
   "outputs": [],
   "source": [
    "cv2.imshow(\"test\", image)\n",
    "cv2.waitKey(0)\n",
    "cv2.destroyAllWindows()"
   ]
  },
  {
   "cell_type": "code",
   "execution_count": null,
   "id": "dc378473",
   "metadata": {},
   "outputs": [],
   "source": [
    "expanded_idx = [0]*30\n",
    "for i in range(30): expanded_idx.append(image.shape[1])"
   ]
  },
  {
   "cell_type": "code",
   "execution_count": null,
   "id": "006cac6f",
   "metadata": {},
   "outputs": [],
   "source": [
    "expanded_image_B = np.insert(image, expanded_idx, (255, 255,255), axis = 1)"
   ]
  },
  {
   "cell_type": "code",
   "execution_count": null,
   "id": "71fcf49c",
   "metadata": {},
   "outputs": [],
   "source": [
    "image_R, image_G, image_B = cv2.split(expanded_image_B)"
   ]
  },
  {
   "cell_type": "code",
   "execution_count": null,
   "id": "0c112680",
   "metadata": {},
   "outputs": [],
   "source": [
    "img_input = image_G"
   ]
  },
  {
   "cell_type": "code",
   "execution_count": null,
   "id": "e9d4e3d6",
   "metadata": {},
   "outputs": [],
   "source": [
    "# apply binary thresholding\n",
    "ret, thresh = cv2.threshold(img_input, 30, 255, cv2.THRESH_BINARY_INV)\n",
    "source = thresh"
   ]
  },
  {
   "cell_type": "code",
   "execution_count": null,
   "id": "2b776356",
   "metadata": {},
   "outputs": [],
   "source": [
    "cv2.imshow(\"test\", thresh)\n",
    "cv2.waitKey(0)\n",
    "cv2.destroyAllWindows()"
   ]
  },
  {
   "cell_type": "code",
   "execution_count": null,
   "id": "fc8a3804",
   "metadata": {},
   "outputs": [],
   "source": [
    "#腐蚀\n",
    "kernel = np.ones((7,7),np.uint8)\n",
    "thresh = cv2.dilate(thresh,kernel,iterations = 1)\n",
    "thresh = cv2.erode(thresh,kernel,iterations = 1)\n",
    "corruption = thresh\n",
    "#膨胀\n",
    "\n",
    "cv2.imshow(\"source\", source)\n",
    "cv2.imshow(\"corruption\", corruption)\n",
    "cv2.imshow(\"result\", thresh)\n",
    "cv2.waitKey(0)\n",
    "cv2.destroyAllWindows()"
   ]
  },
  {
   "cell_type": "code",
   "execution_count": null,
   "id": "8668f23a",
   "metadata": {},
   "outputs": [],
   "source": [
    "# detect the contours on the binary image using cv2.CHAIN_APPROX_NONE\n",
    "contours, hierarchy = cv2.findContours(image=thresh, mode=cv2.RETR_TREE, method=cv2.CHAIN_APPROX_NONE)\n",
    "                                       \n",
    "# draw contours on the original image\n",
    "image_copy = expanded_image_B.copy()\n",
    "cv2.drawContours(image=image_copy, contours=contours, contourIdx=-1, color=(0, 255, 0), thickness=2, lineType=cv2.LINE_AA)"
   ]
  },
  {
   "cell_type": "code",
   "execution_count": null,
   "id": "64e4fc2a",
   "metadata": {},
   "outputs": [],
   "source": [
    "pos_contours = []\n",
    "for contour in contours:\n",
    "  if len(contour)>300 and len(contour)<3000:\n",
    "    pos_contours.append(contour)"
   ]
  },
  {
   "cell_type": "code",
   "execution_count": null,
   "id": "3f17adc4",
   "metadata": {},
   "outputs": [],
   "source": [
    "image_copy = expanded_image_B.copy()\n",
    "cv2.drawContours(image=image_copy, contours=pos_contours, contourIdx=-1, color=(0, 255, 0), thickness=2, lineType=cv2.LINE_AA)"
   ]
  },
  {
   "cell_type": "code",
   "execution_count": null,
   "id": "37aeeab2",
   "metadata": {},
   "outputs": [],
   "source": [
    "from cv2 import approxPolyDP\n",
    "app_contours = []\n",
    "bound_rects = []\n",
    "for i in range(len(pos_contours)):\n",
    "  app_contours.append(approxPolyDP( pos_contours[i],3, True))\n",
    "  bound_rects.append(cv2.boundingRect(app_contours[i]))"
   ]
  },
  {
   "cell_type": "code",
   "execution_count": null,
   "id": "3bcf3839",
   "metadata": {},
   "outputs": [],
   "source": [
    "image_copy = expanded_image_B.copy()\n",
    "\n",
    "color = (255, 255, 255)\n",
    "for i in range(len(pos_contours)):\n",
    "  x, y, w, h = bound_rects[i]\n",
    "  cv2.rectangle(image_copy, (x, y), (x+w, y+h), color, 2 );"
   ]
  },
  {
   "cell_type": "code",
   "execution_count": null,
   "id": "db73c573",
   "metadata": {},
   "outputs": [],
   "source": [
    "cv2.imshow(\"test\", image_copy)\n",
    "cv2.waitKey(0)\n",
    "cv2.destroyAllWindows()"
   ]
  },
  {
   "cell_type": "code",
   "execution_count": null,
   "id": "de7b5852",
   "metadata": {},
   "outputs": [],
   "source": [
    "image_copy = thresh.copy()\n",
    "\n",
    "color = (0, 255, 0)\n",
    "for i in range(len(pos_contours)):\n",
    "  x, y, w, h = bound_rects[i]\n",
    "  cv2.rectangle(image_copy, (x, y), (x+w, y+h), color, 2 );"
   ]
  },
  {
   "cell_type": "code",
   "execution_count": null,
   "id": "25bb7671",
   "metadata": {},
   "outputs": [],
   "source": [
    "cv2.imshow(\"thresh\", image_copy)\n",
    "cv2.waitKey(0)\n",
    "cv2.destroyAllWindows()"
   ]
  },
  {
   "cell_type": "code",
   "execution_count": null,
   "id": "f539f8a2",
   "metadata": {},
   "outputs": [],
   "source": []
  }
 ],
 "metadata": {
  "kernelspec": {
   "display_name": "Python 3 (ipykernel)",
   "language": "python",
   "name": "python3"
  },
  "language_info": {
   "codemirror_mode": {
    "name": "ipython",
    "version": 3
   },
   "file_extension": ".py",
   "mimetype": "text/x-python",
   "name": "python",
   "nbconvert_exporter": "python",
   "pygments_lexer": "ipython3",
   "version": "3.9.12"
  }
 },
 "nbformat": 4,
 "nbformat_minor": 5
}
