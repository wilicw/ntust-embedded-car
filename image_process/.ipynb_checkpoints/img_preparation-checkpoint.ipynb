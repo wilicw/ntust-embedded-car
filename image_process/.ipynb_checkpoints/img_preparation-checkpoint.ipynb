{
 "cells": [
  {
   "cell_type": "code",
   "execution_count": 1,
   "id": "6d7c7fe0",
   "metadata": {},
   "outputs": [],
   "source": [
    "import cv2\n",
    "import numpy as np"
   ]
  },
  {
   "cell_type": "code",
   "execution_count": 2,
   "id": "e872cbfe",
   "metadata": {},
   "outputs": [],
   "source": [
    "from matplotlib import pyplot as plt\n",
    "def printMat(imgs, name = \"test0\"):\n",
    "    i = 0\n",
    "    for img in imgs:\n",
    "        plt.imshow(cv2.cvtColor(img, cv2.COLOR_BGR2RGB))\n",
    "        i+=1\n",
    "        plt.show()\n",
    "#         cv2.imshow(name, img)\n",
    "#     cv2.waitKey(0)\n",
    "#     cv2.destroyAllWindows()"
   ]
  },
  {
   "cell_type": "code",
   "execution_count": 3,
   "id": "c5d4952b",
   "metadata": {},
   "outputs": [],
   "source": [
    "def load_pictures(path):\n",
    "    ret = []\n",
    "    for i in range(5):\n",
    "        ret.append(cv2.imread(f\"{path}/test{i}.jpg\"))\n",
    "    return ret"
   ]
  },
  {
   "cell_type": "code",
   "execution_count": 4,
   "id": "18287231",
   "metadata": {},
   "outputs": [],
   "source": [
    "def load_des_pictures(path, lst):\n",
    "    ret = []\n",
    "    for i in lst:\n",
    "        ret.append(cv2.imread(f\"{path}/test{i}.jpg\"))\n",
    "    return ret"
   ]
  },
  {
   "cell_type": "code",
   "execution_count": 5,
   "id": "59f6c1b5",
   "metadata": {},
   "outputs": [],
   "source": [
    "def horizontal_padding(image):\n",
    "    expanded_idx = [0]*30\n",
    "    for i in range(30): expanded_idx.append(image.shape[1])\n",
    "    expanded_image = np.insert(image, expanded_idx, (0, 0, 0), axis = 1)\n",
    "    return expanded_image"
   ]
  },
  {
   "cell_type": "code",
   "execution_count": 6,
   "id": "078cf7b6",
   "metadata": {},
   "outputs": [],
   "source": [
    "def min_max_scale_0_255(image_featureR, mn, mx):\n",
    "    # ----------------------把i j拿掉做numpy運算會爆炸!!!!!----------------------\n",
    "    # ----------------------把i j拿掉做numpy運算會爆炸!!!!!----------------------\n",
    "    # ----------------------把i j拿掉做numpy運算會爆炸!!!!!----------------------\n",
    "    for i in range(len(image_featureR)):\n",
    "        for j in range(len(image_featureR[i])):\n",
    "            image_featureR[i][j] = (image_featureR[i][j]-mn)/(mx-mn)*255\n",
    "    #printMat(image_featureR)\n",
    "    return image_featureR"
   ]
  },
  {
   "cell_type": "code",
   "execution_count": 7,
   "id": "e484e793",
   "metadata": {},
   "outputs": [],
   "source": [
    "def emphasize_first(first, second, third): #input 3 channel, emphasize first\n",
    "    image_featureR = first # for resize\n",
    "    inf = 1e18\n",
    "    mn = inf\n",
    "    mx = -inf\n",
    "    for i in range(len(image_featureR)):\n",
    "     for j in range(len(image_featureR[i])):\n",
    "        v = (((int)(second[i][j])+(int)(third[i][j]))/2)*1.45 #紅色要夠顯著\n",
    "        if first[i][j]>v:\n",
    "          image_featureR[i][j] = first[i][j]-v\n",
    "        else:\n",
    "          image_featureR[i][j] = 0\n",
    "        mn = min(mn, first[i][j])\n",
    "        mx = max(mx, first[i][j]) #for scaling\n",
    "    #printMat([image_featureR], \"before min max\")\n",
    "    return min_max_scale_0_255(image_featureR, mn, mx)"
   ]
  },
  {
   "cell_type": "code",
   "execution_count": 8,
   "id": "1d938859",
   "metadata": {},
   "outputs": [],
   "source": [
    "from cv2 import approxPolyDP\n",
    "def integrated_draw_contours_and_rectangle(img_input, img_output): #input single channel image\n",
    "    ret, thresh = cv2.threshold(img_input, 100, 255, cv2.THRESH_BINARY)\n",
    "    #printMat([thresh], \"thresh\")\n",
    "    contours, hierarchy = cv2.findContours(image=thresh, mode=cv2.RETR_TREE, method=cv2.CHAIN_APPROX_NONE)\n",
    "    pos_contours = []\n",
    "    for contour in contours:\n",
    "        if len(contour)>300 and len(contour)<3000:\n",
    "            pos_contours.append(contour)\n",
    "    app_contours = []\n",
    "    bound_rects = []\n",
    "    min_circles = []\n",
    "    for i in range(len(pos_contours)):\n",
    "        app_contours.append(approxPolyDP( pos_contours[i],3, True))\n",
    "        bound_rects.append(cv2.boundingRect(app_contours[i]))\n",
    "        \n",
    "    image_copy = img_output.copy()\n",
    "    color = (255, 255, 255)\n",
    "    for i in range(len(bound_rects)):\n",
    "        x, y, w, h = bound_rects[i]\n",
    "        cv2.rectangle(image_copy, (x, y), (x+w, y+h), color, 2 ) \n",
    "    #cv2.drawContours(image=image_copy, contours=app_contours, contourIdx=-1, color=(0, 255, 0), thickness=2, lineType=cv2.LINE_AA)\n",
    "    return image_copy, app_contours, bound_rects"
   ]
  },
  {
   "cell_type": "code",
   "execution_count": 9,
   "id": "c4631b62",
   "metadata": {},
   "outputs": [],
   "source": [
    "def contrast_increasing(img):\n",
    "    lab= cv2.cvtColor(img, cv2.COLOR_BGR2LAB)\n",
    "    l_channel, a, b = cv2.split(lab)\n",
    "    clahe = cv2.createCLAHE(clipLimit=20.0, tileGridSize=(8,8))\n",
    "    cl = clahe.apply(l_channel)\n",
    "    limg = cv2.merge((cl,a,b))\n",
    "    enhanced_img = cv2.cvtColor(limg, cv2.COLOR_LAB2BGR)\n",
    "    return enhanced_img"
   ]
  },
  {
   "cell_type": "code",
   "execution_count": 10,
   "id": "f1f57210",
   "metadata": {},
   "outputs": [],
   "source": [
    "def contrast_increasing2(img):\n",
    "    a = 3\n",
    "    b = -200\n",
    "    y = np.float(a)*img+b\n",
    "    y[y>255] = 255\n",
    "    y[y<0] = 0\n",
    "    y = np.round(y)\n",
    "    img = y.astype(np.uint8)\n",
    "    return img"
   ]
  },
  {
   "cell_type": "code",
   "execution_count": 11,
   "id": "66368a63",
   "metadata": {},
   "outputs": [],
   "source": [
    "def process_red_sign_finding(img_input):\n",
    "    expanded_image = horizontal_padding(img_input)\n",
    "    expanded_image = contrast_increasing2(expanded_image)\n",
    "    #printMat([expanded_image], \"contrast_increasing\")\n",
    "    image_B, image_G, image_R = cv2.split(expanded_image)\n",
    "    #print(image_B[0][0], image_G[0][0], image_R[0][0])\n",
    "    #image_B, image_G, image_R = normalize_channel_brightness(image_B, image_G, image_R)\n",
    "    #print(image_B[0][0], image_G[0][0], image_R[0][0])\n",
    "    #printMat([image_B, image_G, image_R])\n",
    "    emphasized = emphasize_first(image_R, image_B, image_G)\n",
    "    #printMat([emphasized], \"emp\")\n",
    "    return integrated_draw_contours_and_rectangle(emphasized, expanded_image)"
   ]
  },
  {
   "cell_type": "code",
   "execution_count": 12,
   "id": "5a775542",
   "metadata": {},
   "outputs": [],
   "source": [
    "pictures = load_des_pictures(\"cpp_stop_pic\", list(range(0, 570+1)))"
   ]
  },
  {
   "cell_type": "code",
   "execution_count": 13,
   "id": "af8724c6",
   "metadata": {},
   "outputs": [
    {
     "data": {
      "text/plain": [
       "571"
      ]
     },
     "execution_count": 13,
     "metadata": {},
     "output_type": "execute_result"
    }
   ],
   "source": [
    "len(pictures)"
   ]
  },
  {
   "cell_type": "code",
   "execution_count": 14,
   "id": "923f541f",
   "metadata": {
    "scrolled": true
   },
   "outputs": [
    {
     "ename": "AttributeError",
     "evalue": "'NoneType' object has no attribute 'shape'",
     "output_type": "error",
     "traceback": [
      "\u001b[1;31m---------------------------------------------------------------------------\u001b[0m",
      "\u001b[1;31mAttributeError\u001b[0m                            Traceback (most recent call last)",
      "Input \u001b[1;32mIn [14]\u001b[0m, in \u001b[0;36m<cell line: 4>\u001b[1;34m()\u001b[0m\n\u001b[0;32m      3\u001b[0m cropped_images \u001b[38;5;241m=\u001b[39m []\n\u001b[0;32m      4\u001b[0m \u001b[38;5;28;01mfor\u001b[39;00m img \u001b[38;5;129;01min\u001b[39;00m pictures:\n\u001b[1;32m----> 5\u001b[0m     after_process_img, contours, rects \u001b[38;5;241m=\u001b[39m \u001b[43mprocess_red_sign_finding\u001b[49m\u001b[43m(\u001b[49m\u001b[43mimg\u001b[49m\u001b[43m)\u001b[49m\n\u001b[0;32m      6\u001b[0m     after_process\u001b[38;5;241m.\u001b[39mappend(after_process_img)\n\u001b[0;32m      7\u001b[0m     \u001b[38;5;28;01mfor\u001b[39;00m rect \u001b[38;5;129;01min\u001b[39;00m rects:\n",
      "Input \u001b[1;32mIn [11]\u001b[0m, in \u001b[0;36mprocess_red_sign_finding\u001b[1;34m(img_input)\u001b[0m\n\u001b[0;32m      1\u001b[0m \u001b[38;5;28;01mdef\u001b[39;00m \u001b[38;5;21mprocess_red_sign_finding\u001b[39m(img_input):\n\u001b[1;32m----> 2\u001b[0m     expanded_image \u001b[38;5;241m=\u001b[39m \u001b[43mhorizontal_padding\u001b[49m\u001b[43m(\u001b[49m\u001b[43mimg_input\u001b[49m\u001b[43m)\u001b[49m\n\u001b[0;32m      3\u001b[0m     expanded_image \u001b[38;5;241m=\u001b[39m contrast_increasing2(expanded_image)\n\u001b[0;32m      4\u001b[0m     \u001b[38;5;66;03m#printMat([expanded_image], \"contrast_increasing\")\u001b[39;00m\n",
      "Input \u001b[1;32mIn [5]\u001b[0m, in \u001b[0;36mhorizontal_padding\u001b[1;34m(image)\u001b[0m\n\u001b[0;32m      1\u001b[0m \u001b[38;5;28;01mdef\u001b[39;00m \u001b[38;5;21mhorizontal_padding\u001b[39m(image):\n\u001b[0;32m      2\u001b[0m     expanded_idx \u001b[38;5;241m=\u001b[39m [\u001b[38;5;241m0\u001b[39m]\u001b[38;5;241m*\u001b[39m\u001b[38;5;241m30\u001b[39m\n\u001b[1;32m----> 3\u001b[0m     \u001b[38;5;28;01mfor\u001b[39;00m i \u001b[38;5;129;01min\u001b[39;00m \u001b[38;5;28mrange\u001b[39m(\u001b[38;5;241m30\u001b[39m): expanded_idx\u001b[38;5;241m.\u001b[39mappend(\u001b[43mimage\u001b[49m\u001b[38;5;241;43m.\u001b[39;49m\u001b[43mshape\u001b[49m[\u001b[38;5;241m1\u001b[39m])\n\u001b[0;32m      4\u001b[0m     expanded_image \u001b[38;5;241m=\u001b[39m np\u001b[38;5;241m.\u001b[39minsert(image, expanded_idx, (\u001b[38;5;241m0\u001b[39m, \u001b[38;5;241m0\u001b[39m, \u001b[38;5;241m0\u001b[39m), axis \u001b[38;5;241m=\u001b[39m \u001b[38;5;241m1\u001b[39m)\n\u001b[0;32m      5\u001b[0m     \u001b[38;5;28;01mreturn\u001b[39;00m expanded_image\n",
      "\u001b[1;31mAttributeError\u001b[0m: 'NoneType' object has no attribute 'shape'"
     ]
    }
   ],
   "source": [
    "# 700*700*100*24 \n",
    "after_process = []\n",
    "cropped_images = []\n",
    "for img in pictures:\n",
    "    after_process_img, contours, rects = process_red_sign_finding(img)\n",
    "    after_process.append(after_process_img)\n",
    "    for rect in rects:\n",
    "        x, y, w, h = rect\n",
    "        cropped_images.append(after_process_img[y:y+h,x:x+w])"
   ]
  },
  {
   "cell_type": "code",
   "execution_count": null,
   "id": "1269deed",
   "metadata": {},
   "outputs": [],
   "source": [
    "printMat(after_process)"
   ]
  },
  {
   "cell_type": "code",
   "execution_count": null,
   "id": "4ffaff19",
   "metadata": {},
   "outputs": [],
   "source": [
    "len(cropped_images)"
   ]
  },
  {
   "cell_type": "code",
   "execution_count": null,
   "id": "376fa8ac",
   "metadata": {},
   "outputs": [],
   "source": [
    "len(after_process)"
   ]
  },
  {
   "cell_type": "code",
   "execution_count": null,
   "id": "422866e9",
   "metadata": {
    "scrolled": true
   },
   "outputs": [],
   "source": [
    "printMat(cropped_images[0:20])"
   ]
  },
  {
   "cell_type": "code",
   "execution_count": null,
   "id": "eb190765",
   "metadata": {},
   "outputs": [],
   "source": [
    "cv2.imwrite(f\"./cpp_stop_pic/train/train0.jpg\", cropped_images[1])"
   ]
  },
  {
   "cell_type": "code",
   "execution_count": null,
   "id": "a726c2bc",
   "metadata": {},
   "outputs": [],
   "source": [
    "i = 0\n",
    "for img in cropped_images:\n",
    "    cv2.imwrite(f\"./cpp_stop_pic/train/train{i}.jpg\", img)\n",
    "    i+=1"
   ]
  },
  {
   "cell_type": "code",
   "execution_count": null,
   "id": "2e8bfbca",
   "metadata": {},
   "outputs": [],
   "source": [
    "len(cropped_images)"
   ]
  },
  {
   "cell_type": "code",
   "execution_count": null,
   "id": "fa198398",
   "metadata": {},
   "outputs": [],
   "source": [
    "printMat([pictures[0]])"
   ]
  },
  {
   "cell_type": "code",
   "execution_count": null,
   "id": "671006fe",
   "metadata": {
    "scrolled": false
   },
   "outputs": [],
   "source": [
    "printMat([contrast_increasing2(pictures[0])])"
   ]
  },
  {
   "cell_type": "code",
   "execution_count": null,
   "id": "bcdd780f",
   "metadata": {},
   "outputs": [],
   "source": [
    "cv2.imwrite(f\"./test/test0.jpg\", contrast_increasing2(pictures[0]))"
   ]
  },
  {
   "cell_type": "code",
   "execution_count": null,
   "id": "e5bc6b97",
   "metadata": {},
   "outputs": [],
   "source": []
  }
 ],
 "metadata": {
  "kernelspec": {
   "display_name": "Python 3 (ipykernel)",
   "language": "python",
   "name": "python3"
  },
  "language_info": {
   "codemirror_mode": {
    "name": "ipython",
    "version": 3
   },
   "file_extension": ".py",
   "mimetype": "text/x-python",
   "name": "python",
   "nbconvert_exporter": "python",
   "pygments_lexer": "ipython3",
   "version": "3.10.6"
  }
 },
 "nbformat": 4,
 "nbformat_minor": 5
}
